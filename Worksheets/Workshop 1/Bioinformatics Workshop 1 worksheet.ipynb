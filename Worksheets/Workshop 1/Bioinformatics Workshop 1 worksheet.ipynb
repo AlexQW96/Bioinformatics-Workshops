{
 "cells": [
  {
   "cell_type": "markdown",
   "metadata": {},
   "source": [
    "# Bioinformatics Workshop 1\n",
    "\n",
    "Welcome to the first workshop of the MBSI Bioinformatics course! In this Jupyter notebook, we will introduce you to the basics of genetic code manipulation with Biopython. Feel free to work through the exercises at your own pace, and ask the tutors if you encounter any problems. You can run the coding cells using Shift + Enter.\n",
    "\n",
    "---"
   ]
  },
  {
   "cell_type": "markdown",
   "metadata": {},
   "source": [
    "## Getting started with biopython\n",
    "\n",
    "The first thing we will have to do is import Biopython, along with other relevant libraries. Edit the text after the `%cd` to the folder path with the fasta and fastq files used in this workshop."
   ]
  },
  {
   "cell_type": "code",
   "execution_count": null,
   "metadata": {},
   "outputs": [],
   "source": [
    "!pip install biopython"
   ]
  },
  {
   "cell_type": "code",
   "execution_count": null,
   "metadata": {},
   "outputs": [],
   "source": [
    "#Import libraries \n",
    "import numpy as np\n",
    "import pandas as pd\n",
    "import Bio\n",
    "from Bio.Seq import Seq\n",
    "from Bio import SeqIO\n",
    "from Bio.SeqRecord import SeqRecord\n",
    "from Bio.SeqUtils import GC\n",
    "%cd \"C:\\Users\\vince\\Documents\\mbsi\""
   ]
  },
  {
   "cell_type": "markdown",
   "metadata": {},
   "source": [
    "Next, we will use Biopython's `seq` object to input our first snippets of DNA code. Remember that only characters in the IUPAC DNA character set are supported, although in our case we will simply use A, T, C and G. The characters should be input as a string with no spaces, eg. `'ATGAGGCCT'`. Have a go in the cell below, and check out the result!"
   ]
  },
  {
   "cell_type": "code",
   "execution_count": null,
   "metadata": {
    "scrolled": true
   },
   "outputs": [],
   "source": [
    "#Exercise 0a\n",
    "Seq(#Your sequence here)"
   ]
  },
  {
   "cell_type": "markdown",
   "metadata": {},
   "source": [
    "Sequences can be treated as normal python strings. Thus, we can get the length and iterate over the elements. For our first real exercise, write a function that iterates over a given sequence and prints the index next to the letter."
   ]
  },
  {
   "cell_type": "code",
   "execution_count": null,
   "metadata": {},
   "outputs": [],
   "source": [
    "#Exercise 0b\n",
    "def printbases(seq):\n",
    "    for index, letter in enumerate(seq):\n",
    "        #Your code here"
   ]
  },
  {
   "cell_type": "code",
   "execution_count": null,
   "metadata": {},
   "outputs": [],
   "source": [
    "#Test your code here\n",
    "printbases(Seq('ATTACG'))"
   ]
  },
  {
   "cell_type": "markdown",
   "metadata": {},
   "source": [
    "#### SeqRecord objects\n",
    "\n",
    "The SeqRecord is a class that allows for further metadata to be associated with a sequence, along with being the data type used for the `seqIO` input/output interface used by Biopython. It contains the following data as attributes, as defined by the biopython cookbook: (http://biopython.org/DIST/docs/tutorial/Tutorial.html#sec34)\n",
    "\n",
    "- .seq\n",
    "    - The sequence itself, typically a Seq object.\n",
    "- .id\n",
    "    - The primary ID used to identify the sequence – a string. In most cases this is something like an accession number.\n",
    "- .name\n",
    "    - A “common” name/id for the sequence – a string. In some cases this will be the same as the accession number, but it could also be a clone name. I think of this as being analogous to the LOCUS id in a GenBank record.\n",
    "- .description\n",
    "    - A human readable description or expressive name for the sequence – a string.\n",
    "- .letter_annotations\n",
    "    - Holds per-letter-annotations using a (restricted) dictionary of additional information about the letters in the sequence. The keys are the name of the information, and the information is contained in the value as a Python sequence (i.e. a list, tuple or string) with the same length as the sequence itself. This is often used for quality scores (e.g. Section ‍20.1.6) or secondary structure information (e.g. from Stockholm/PFAM alignment files).\n",
    "- .annotations\n",
    "    - A dictionary of additional information about the sequence. The keys are the name of the information, and the information is contained in the value. This allows the addition of more “unstructured” information to the sequence.\n",
    "- .features\n",
    "    - A list of SeqFeature objects with more structured information about the features on a sequence (e.g. position of genes on a genome, or domains on a protein sequence). The structure of sequence features is described below in Section ‍4.3.\n",
    "- .dbxrefs\n",
    "    - A list of database cross-references as strings."
   ]
  },
  {
   "cell_type": "markdown",
   "metadata": {},
   "source": [
    "To start off, you can create a SeqRecord  with just a Seq object."
   ]
  },
  {
   "cell_type": "code",
   "execution_count": null,
   "metadata": {},
   "outputs": [],
   "source": [
    "my_seq = Seq('ATTAG')\n",
    "my_seqr = SeqRecord(my_seq)"
   ]
  },
  {
   "cell_type": "markdown",
   "metadata": {},
   "source": [
    "Next, you can use the Seqrecord attributes to modify the name, id, description and other information."
   ]
  },
  {
   "cell_type": "code",
   "execution_count": null,
   "metadata": {},
   "outputs": [],
   "source": [
    "my_seqr.id = 'MX123812'\n",
    "my_seqr.name = 'Cool name'\n",
    "my_seqr.description = 'Just a sequence I made up'\n",
    "print(my_seqr)"
   ]
  },
  {
   "cell_type": "markdown",
   "metadata": {},
   "source": [
    "Next, we will import real-world data using Seqrecord."
   ]
  },
  {
   "cell_type": "markdown",
   "metadata": {},
   "source": [
    "#### Importing Fasta and Fastq files\n",
    "\n",
    "Today, we'll be using Genbank, Fasta and Fastq files containing real-world genetic information. To import them, we will use Entrez to retrieve data from NCBI's databases such as PubMed, GenBank and others. In this case, we first use `Entrez.email` to give an email to NCBI to let them know who we are. Next, we use `Entrez.efetch` to retrieve the desired information. Here, it is a fasta file from the nucleotide database, with the id of NC_045512.2. Retmode denotes the mode of retrieval, in this case trext instead of xml. Next, `SeqIO.read()` is used to read the fasta file retrieved into a Seqrecord object."
   ]
  },
  {
   "cell_type": "code",
   "execution_count": null,
   "metadata": {
    "scrolled": true
   },
   "outputs": [],
   "source": [
    "import Bio\n",
    "from Bio import Entrez, SeqIO\n",
    "Entrez.email = 'my_email@gmail.com'\n",
    "handle = Entrez.efetch(db=\"nucleotide\", id='NC_045512.2', rettype = 'gb', retmode=\"text\")\n",
    "record = SeqIO.read(handle,'gb')\n",
    "print(record)"
   ]
  },
  {
   "cell_type": "markdown",
   "metadata": {},
   "source": [
    "Wow- now _that_ is a long sequence of DNA. But just how long? We can use `len()` as usual on a  Seq data type to find out. "
   ]
  },
  {
   "cell_type": "code",
   "execution_count": null,
   "metadata": {},
   "outputs": [],
   "source": [
    "len(record.seq)"
   ]
  },
  {
   "cell_type": "markdown",
   "metadata": {},
   "source": [
    "Yeah, that's pretty long. Luckily, `Biopython` has a variety of useful methods we can use on the DNA data type to help us manage and interpret the sequence. Firstly, qualitative methods such as `gaps()` and `has_metadata()` help us quickly make sense of the sequence."
   ]
  },
  {
   "cell_type": "markdown",
   "metadata": {},
   "source": [
    "## Exercise 1: Counting Nucleotides\n",
    "\n",
    "For our first exercise, we will write a simple function that will count the number of times `A`, `T`, `C` and `G` appear in our DNA sequence. To help you with this, here is a scaffold for the code needed:\n",
    "\n",
    "\n",
    "- Create four **variables** that will keep track of the nucleotide counts. \n",
    "- Create a `for` loop to iterate along the enitre sequence\n",
    "- Inside that `for` loop, add 1 to the counting variables everytime the iterator encounters the variables' corresponding letter.\n",
    "- Return a dictionary of the nucleotide letter and its corresponding count.\n",
    "\n",
    "> 💡 **Hint:**\n",
    "Convert the sequence into a string before or in the for loop."
   ]
  },
  {
   "cell_type": "code",
   "execution_count": null,
   "metadata": {},
   "outputs": [],
   "source": [
    "#Excercise 1a\n",
    "def NuCounter(Sequence):\n",
    "    # Your code here\n",
    "    \n",
    "    # Initialise the counts of each base\n",
    "    countA = 0\n",
    "    countT = 0\n",
    "    countC = 0\n",
    "    countG = 0\n",
    "    \n",
    "    # Iterate over the sequence\n",
    "    for nuc in str(Sequence):\n",
    "        # Increase the count by 1 when the loop encounters the corresponding nucleotide\n",
    "        if nuc == 'A':\n",
    "            countA += 1\n",
    "        elif nuc == 'T':\n",
    "            countT += 1\n",
    "        elif nuc == 'C':\n",
    "            countC += 1\n",
    "        elif nuc == 'G':\n",
    "            countG += 1\n",
    "        \n",
    "    return {'A':countA, 'T':countT, 'C':countC, 'G':countG}\n"
   ]
  },
  {
   "cell_type": "code",
   "execution_count": null,
   "metadata": {},
   "outputs": [],
   "source": [
    "#Test your code below\n",
    "print(NuCounter(Seq('ATCGGTCCAAGTACAG')) )#Should return {'A': 5, 'T': 3, 'C': 4, 'G': 4}\n",
    "print(NuCounter(record.seq))"
   ]
  },
  {
   "cell_type": "markdown",
   "metadata": {},
   "source": [
    "Good job! As it turns out, `Biopython` already has a built-in method to count the nucleotides, `count()`. Oh well, at least we know how that works now. Using the `count` method below:"
   ]
  },
  {
   "cell_type": "code",
   "execution_count": null,
   "metadata": {},
   "outputs": [],
   "source": [
    "print(record.seq.count('A'))\n",
    "print(record.seq.count('T'))\n",
    "print(record.seq.count('C'))\n",
    "print(record.seq.count('G'))\n"
   ]
  },
  {
   "cell_type": "markdown",
   "metadata": {},
   "source": [
    "Good to see that our results match up. Looks like our function still saves us a bit of work since we only need to input the sequence once! In addition to the A,T,C and Gs, we can also have other nucleotides pop up, such as N. This just means that the specific position can be occupied by any nucleotide. There are other nucleotide codes such as B, which signifies if a position is occupied by a C, G or T. Try modifying your code in exercise 1a to include counting the N positions for the following sample:"
   ]
  },
  {
   "cell_type": "code",
   "execution_count": null,
   "metadata": {},
   "outputs": [],
   "source": [
    "Sample = SeqIO.read('Sample.fasta', 'fasta')\n",
    "print(Sample)"
   ]
  },
  {
   "cell_type": "code",
   "execution_count": null,
   "metadata": {},
   "outputs": [],
   "source": [
    "#Excercise 1b\n",
    "def NuCounterN(Sequence):\n",
    "    # Your code here\n",
    "    # Initialise the variables as before, with an N\n",
    "    \n",
    "    # Iterate over the sequence\n",
    "    \n",
    "        # Increase the count by 1 when the loop encounters the corresponding nucleotide\n",
    "        \n",
    "    return {'A':countA, 'T':countT, 'C':countC, 'G':countG, 'N':countN}\n"
   ]
  },
  {
   "cell_type": "code",
   "execution_count": null,
   "metadata": {},
   "outputs": [],
   "source": [
    "#Test your code below\n",
    "print(NuCounterN(Seq('ATNCGGTCCAAGNNTACAG')) ) # Should return {'A': 5, 'T': 3, 'C': 4, 'G': 4, 'N': 3}\n",
    "print(NuCounterN(Sample.seq)) # Should return {'A': 42333, 'T': 44167, 'C': 22201, 'G': 21760, 'N': 103}"
   ]
  },
  {
   "cell_type": "markdown",
   "metadata": {},
   "source": [
    "**Great!** Another good use for counting nucleotides is determining the _GC content of a sequence_. The GC content is the percentage of bases in DNA or RNA that are either guanine (G) or cytosine (C). Knowing the GC content of a sequence has a variety of biological uses. For example, determining the evolution of a genome by recombination through tracking the GC-content over time, and discovering relationships between chromosome sizes and life-history traits.\n",
    "\n",
    "For us to get to that point though, we first have to write a function to determine the GC content. You can adapt the code you have already written in the previous exercises to make your life easier. Return the output as the sentence `'This sequence has a GC content of [your result]%.'`. "
   ]
  },
  {
   "cell_type": "code",
   "execution_count": null,
   "metadata": {},
   "outputs": [],
   "source": [
    "#Exercise 1c\n",
    "def GcCount(Sequence):\n",
    "    # Your code here\n",
    "    # Initialise the counts for the G and C nucleotides\n",
    "    \n",
    "    # Iterate over the sequence\n",
    "    \n",
    "        # Increase the count by 1 when the loop encounters the corresponding nucleotide\n",
    "    \n",
    "    # Calculate the GC percentage\n",
    "    \n",
    "    return 'This sequence has a GC content of ' + str(GCpercent) + '%.'\n",
    "    "
   ]
  },
  {
   "cell_type": "code",
   "execution_count": null,
   "metadata": {},
   "outputs": [],
   "source": [
    "#Test your code below\n",
    "print(GcCount(record.seq)) #output should be 'This sequence has a GC content of 37.97277865097147%.'"
   ]
  },
  {
   "cell_type": "markdown",
   "metadata": {},
   "source": [
    "**Excellent!** Again, `Biopython` has us beat. The in-built function `GC()` and calculates the GC content for us already."
   ]
  },
  {
   "cell_type": "code",
   "execution_count": null,
   "metadata": {},
   "outputs": [],
   "source": [
    "print(GC(record.seq)) "
   ]
  },
  {
   "cell_type": "markdown",
   "metadata": {},
   "source": [
    "Now that you are familiar with counting nucleotides on one sequence, time to do it on a list of sequences in a Fastq file.\n",
    "\n",
    "---"
   ]
  },
  {
   "cell_type": "markdown",
   "metadata": {},
   "source": [
    "## Exercise 2: Working with multiple sequences\n",
    "\n",
    "As mentioned in the slides, the FASTQ file differs from the usual FASTA format in that it contains a  _set_ of reads, each with their own quality scores and metadata, rather than just a single string. This means that a slightly different method of importing and code is needed."
   ]
  },
  {
   "cell_type": "markdown",
   "metadata": {},
   "source": [
    "#### Importing a set of reads\n",
    "\n",
    "Firstly, we shall use `SeqIO.parse` to read in the FASTQ file. This time, we will initialise a list for the reads, then append the reads into the list. Note that we need two arguments to input into `SeqIO.parse`: the file name and the file type. Here, we have used 'fastq-sanger' to indicate that the quality scores are in base 33 ASCII, rather than the base 64."
   ]
  },
  {
   "cell_type": "code",
   "execution_count": null,
   "metadata": {},
   "outputs": [],
   "source": [
    "#Append to a list of reads\n",
    "Readset = []\n",
    "for seq_record in SeqIO.parse(\"ws1.fastq\", \"fastq-sanger\"):\n",
    "    Readset.append(seq_record)\n"
   ]
  },
  {
   "cell_type": "code",
   "execution_count": null,
   "metadata": {},
   "outputs": [],
   "source": [
    "#Lets see what we're working with:\n",
    "print(len(Readset))\n",
    "#print(Readset)"
   ]
  },
  {
   "cell_type": "markdown",
   "metadata": {},
   "source": [
    "Again, that's a whole lot of reads. So how are we going to make sense of them? Well, getting the minimum, maximum and average lengths of the reads would be a good start. Here is a scaffold to use when constructing the function:\n",
    "\n",
    "- Create an empty list to store the read lengths of all the sequences in the readset.\n",
    "- Iterate using a for loop across all the reads in the readset, and store the lengths of each read in the list.\n",
    "- Calculate the minimum, maximum and average lengths using the `min()`, `max()` and `sum()` functions.\n",
    "- Return a dictionary containing the labels `min_length`, `max_length` and `avg_length`."
   ]
  },
  {
   "cell_type": "code",
   "execution_count": null,
   "metadata": {},
   "outputs": [],
   "source": [
    "#Exercise 2a\n",
    "def read_lengths(readset):\n",
    "    #Your code here\n",
    "    # Initialise the list of read lengths\n",
    "\n",
    "    # Iterate over the reads in the readset \n",
    "    for read in readset:\n",
    "        # Append the read length list wth the length of each read\n",
    "    \n",
    "    # Getting the min, max and average lengths\n",
    "    lengthmin = min(read_lengths)\n",
    "    lengthmax = max(read_lengths)\n",
    "    lengthavg = sum(read_lengths)/float(len(read_lengths))\n",
    "    \n",
    "    return {'min_length':lengthmin, 'max_length':lengthmax, 'avg_length':lengthavg}"
   ]
  },
  {
   "cell_type": "code",
   "execution_count": null,
   "metadata": {},
   "outputs": [],
   "source": [
    "#Test your code here\n",
    "print(read_lengths(Readset)) #Output should be \"{'min_length': 56, 'max_length': 76, 'avg_length': 75.445}\""
   ]
  },
  {
   "cell_type": "markdown",
   "metadata": {},
   "source": [
    "**Nice!** Now, let's put together what we have learned so far. Create a function that outputs the average number of nucleotides A, T, C and G in a given readset. You do not have to consider any other DNA code character. This time, we will be using nested for loops, the outer one iterating over the reads, and the inner one iterating over each nucleotide in the sequence.\n",
    "\n",
    "Here is a scaffold to help you along:\n",
    "- Initialise four lists to keep track of the average counts of each nucleotide for each read\n",
    "- Start a for loop interating over every read in the readset\n",
    "    - **inside this loop:**\n",
    "    - Create four **variables** that will keep track of the nucleotide counts. \n",
    "    - Create a `for` loop to iterate along the enitre sequence\n",
    "        -  **Inside this loop:** \n",
    "        - Add 1 to the counting variables everytime the iterator encounters the variables' corresponding letter.\n",
    "    - Append the counts to their corresponding lists.\n",
    "- Take the average of each list (you can use `np.mean()` instead of using `sum()` and dividing)\n",
    "- Return a dictionary containg the labels `avgA`, `avgT`, `avgC`, and `avgG` with their corresponding average counts.\n",
    "\n",
    "> 💡 **Hint:**\n",
    "A lot of the code inside the first `for` loop can be adapted or directly taken from your function in Exercise 1a!\n"
   ]
  },
  {
   "cell_type": "code",
   "execution_count": null,
   "metadata": {},
   "outputs": [],
   "source": [
    "#Exercise 2b\n",
    "def avgATCG(readset):\n",
    "    #Your code here\n",
    "    # Initialise the lists for the counts of each base\n",
    "    \n",
    "    # Iterate over the reads in the readset \n",
    "    \n",
    "        # Adapt your code in exercise 1b to get the counts of each base from the reads\n",
    "        \n",
    "        # Append the lists with the counts of the bases\n",
    "            \n",
    "    \n",
    "    return {'avgA':np.mean(listA), 'avgT':np.mean(listT), 'avgC':np.mean(listC), 'avgG':np.mean(listG)}"
   ]
  },
  {
   "cell_type": "code",
   "execution_count": null,
   "metadata": {},
   "outputs": [],
   "source": [
    "#Test your code here\n",
    "print(avgATCG(Readset)) #output should be '{'avgA': 15.065, 'avgT': 14.32, 'avgC': 13.665, 'avgG': 13.945}'"
   ]
  },
  {
   "cell_type": "markdown",
   "metadata": {},
   "source": [
    "**Well Done!** Nested `for` loops are essential when dealing with a _set_ of sequences or reads. Now, we shall take a look at transcribing, complementing and translating DNA sequences.\n",
    "\n",
    "---"
   ]
  },
  {
   "cell_type": "markdown",
   "metadata": {},
   "source": [
    "## Exercise 3: Transcribing and Translating\n",
    "\n",
    "\n",
    "Genes provide information to create _proteins_. The production happens through two processes: **Transcription** and **Translation**. Transcription involves using the DNA strand as a template to build a sequence of _RNA_. During translation, amino acids are produced according to the information from the RNA sequence. In the next few exercises, we will create a series of functions that will simulate this process."
   ]
  },
  {
   "cell_type": "markdown",
   "metadata": {},
   "source": [
    "Firstly, let's understand the basics of transcription. \n",
    "- **The four nucleotides found in DNA:** Adenine (A), Cytosine (C), Guanine (G), and Thymine (T).\n",
    "- **The four nucleotides found in RNA**: Adenine (A), Cytosine (C), Guanine (G), and Uracil (U).\n",
    "\n",
    "As you can see, RNA does not have a T nucleotide- instead, it contains Uracil (U) which we can treat as an equivalent.\n",
    "\n",
    "For each DNA strand, the transcribed RNA strand is made by adding on the DNA's _complement nucleotide_. In this case:\n",
    "- A &rarr; U\n",
    "- T &rarr; A\n",
    "- C &rarr; G\n",
    "- G &rarr; C\n",
    "\n",
    "In the exercise below, we shall be essentially following this process to output a transcribed sequence of RNA form a DNA input."
   ]
  },
  {
   "cell_type": "markdown",
   "metadata": {},
   "source": [
    "Here is a useful scaffold for the code needed:\n",
    "- Create a `for` loop iterating over every nucleotide of the sequence\n",
    "- Use `if` statements to replace the nucleotide at that specific position with it's RNA complement\n",
    "- Return a sequence of the transcribed RNA"
   ]
  },
  {
   "cell_type": "code",
   "execution_count": null,
   "metadata": {},
   "outputs": [],
   "source": [
    "#Exercise 3a\n",
    "def transcribe(Sequence):\n",
    "    #Your code here\n",
    "    # Initiate a list containing the sequence string\n",
    "    \n",
    "    # Create a for loop to iterate over the sequence\n",
    "    \n",
    "        # Use if and elif statements to replace the ith base with the complementary RNA base\n",
    "        \n",
    "    # Initialise the output sequence\n",
    "    # Iterate over the list and add the bases to the output sequence\n",
    "\n",
    "\n",
    "    return output_seq\n",
    "        \n",
    "    "
   ]
  },
  {
   "cell_type": "code",
   "execution_count": null,
   "metadata": {},
   "outputs": [],
   "source": [
    "#Test your code here\n",
    "print(transcribe(Seq('GCTAA'))) #should return CGAUU\n",
    "#print(transcribe(record.seq)) "
   ]
  },
  {
   "cell_type": "markdown",
   "metadata": {},
   "source": [
    "The next step is for the information in RNA to be **translated** to proteins. This is done by every three bases in the RNA sequence being correlated to an animo acid. For example, the three bases, or **codon**, 'GTC' codes for the amino acid valine. The sequences of animo acids form the building blocks of proteins, each with their own particular functions. \n",
    "\n",
    "The coding system for the codons and amino acids is known as the genetic code. There are many different genetic codes, with the most common being the standard genetic code. This code can be called from Biopython."
   ]
  },
  {
   "cell_type": "code",
   "execution_count": null,
   "metadata": {},
   "outputs": [],
   "source": [
    "from Bio.Data import CodonTable\n",
    "standard_table = CodonTable.unambiguous_dna_by_id[1]\n",
    "print(standard_table)"
   ]
  },
  {
   "cell_type": "markdown",
   "metadata": {},
   "source": [
    "Reading down the columns, the amino acid 'F', or phenylalanine, is coded by codons UUU and UUC, and so on. In the exercise below, we shall write a function that takes transcibed RNA sequences and outputs a string of its corresponding amino acids. This can be done by using a whole bunch of `if` and `elif` statements, but an easier way would be to use a dictionary, like the one provided:"
   ]
  },
  {
   "cell_type": "code",
   "execution_count": null,
   "metadata": {},
   "outputs": [],
   "source": [
    "stdcodeRNA = {\n",
    "        'AUA':'I', 'AUC':'I', 'AUU':'I', 'AUG':'M',\n",
    "        'ACA':'T', 'ACC':'T', 'ACG':'T', 'ACU':'T',\n",
    "        'AAC':'N', 'AAU':'N', 'AAA':'K', 'AAG':'K',\n",
    "        'AGC':'S', 'AGU':'S', 'AGA':'R', 'AGG':'R',                 \n",
    "        'CUA':'L', 'CUC':'L', 'CUG':'L', 'CUU':'L',\n",
    "        'CCA':'P', 'CCC':'P', 'CCG':'P', 'CCU':'P',\n",
    "        'CAC':'H', 'CAU':'H', 'CAA':'Q', 'CAG':'Q',\n",
    "        'CGA':'R', 'CGC':'R', 'CGG':'R', 'CGU':'R',\n",
    "        'GUA':'V', 'GUC':'V', 'GUG':'V', 'GUU':'V',\n",
    "        'GCA':'A', 'GCC':'A', 'GCG':'A', 'GCU':'A',\n",
    "        'GAC':'D', 'GAU':'D', 'GAA':'E', 'GAG':'E',\n",
    "        'GGA':'G', 'GGC':'G', 'GGG':'G', 'GGU':'G',\n",
    "        'UCA':'S', 'UCC':'S', 'UCG':'S', 'UCU':'S',\n",
    "        'UUC':'F', 'UUU':'F', 'UUA':'L', 'UUG':'L',\n",
    "        'UAC':'Y', 'UAU':'Y', 'UAA':'_', 'UAG':'_',\n",
    "        'UGC':'C', 'UGU':'C', 'UGA':'_', 'UGG':'W',\n",
    "    }"
   ]
  },
  {
   "cell_type": "markdown",
   "metadata": {},
   "source": [
    "The function will now need two inputs - the sequence and its corresponding genetic code dictionary. A possible scaffold for the function would be as follows:\n",
    "\n",
    "- Intitialise the output protein string\n",
    "- Create a `for` loop iterating over every _three_ bases in the sequence\n",
    "- **Inside this loop**:\n",
    "    - Define a codon as a sequence from the current index to three indexes further down the sequence\n",
    "    - Append the output protein string with the corresponding value in the dictionary using the codon as the key\n",
    "- Return the string of proteins as the output\n",
    "\n",
    "> 💡 **Hint:**\n",
    "Ignore bases or codons containing bases other than A,U,C,G."
   ]
  },
  {
   "cell_type": "code",
   "execution_count": null,
   "metadata": {},
   "outputs": [],
   "source": [
    "#Exercise 3b\n",
    "def translate(Sequence, Gencode):\n",
    "    #Your code here\n",
    "    # Initialise output protein string\n",
    "    output_prot = ''\n",
    "    \n",
    "    # Iterate over evry third base in the sequence\n",
    "    for i in range(0, len(Sequence), 3):\n",
    "        \n",
    "        # Set a codon to be the ith to ith+3 element in the sequence\n",
    "        # Iterate over the keys in the genetic code, and if the codon = key, add Gencode[codon] to the output protein string\n",
    "\n",
    "        \n",
    "    return output_prot"
   ]
  },
  {
   "cell_type": "code",
   "execution_count": null,
   "metadata": {},
   "outputs": [],
   "source": [
    "#Test your code here\n",
    "translate('UUCAUUCCA',stdcodeRNA) #Should return FIP\n",
    "#print(translate(transcribe(record.seq),stdcodeRNA))"
   ]
  },
  {
   "cell_type": "markdown",
   "metadata": {},
   "source": [
    "Great! Now, we can try combining our two functions into one that iterates over a `readset`. You can just call your functions that you have written inside this function to save yourself some work. Output a list of protein strings.\n"
   ]
  },
  {
   "cell_type": "code",
   "execution_count": null,
   "metadata": {},
   "outputs": [],
   "source": [
    "#Exercise 3c\n",
    "def Readsetprot(readset, Gencode):\n",
    "    #Your code here\n",
    "    # Initialise the output protein list\n",
    "    \n",
    "    # Iterate over the reads in the readset\n",
    "    \n",
    "        # Use the transcribe() function on each read\n",
    "        # Append the output_prot list with the translated RNA sequences using translate()\n",
    "\n",
    "        \n",
    "    return output_prot\n",
    "        "
   ]
  },
  {
   "cell_type": "code",
   "execution_count": null,
   "metadata": {},
   "outputs": [],
   "source": [
    "#Test your code here\n",
    "Readsetprot(Readset,stdcodeRNA)"
   ]
  },
  {
   "cell_type": "markdown",
   "metadata": {},
   "source": [
    "Great! Now on to our last section of the workshop!\n",
    "\n",
    "---"
   ]
  },
  {
   "cell_type": "markdown",
   "metadata": {},
   "source": [
    "## Exercise 4: Motifs \n",
    "\n",
    "Motifs are repeating patterns of bases in a sequence with a well-defined function. Such motifs include DNA sequences in enhancer regions, adapter sequences for gene sequencing and RNA sequences like splicing signals. In this exercise, we will have a look at first counting and locating known DNA motifs, and also modifying a sequence by trimming unwanted motifs.\n"
   ]
  },
  {
   "cell_type": "markdown",
   "metadata": {},
   "source": [
    "For our first exercise, create a function that takes two seq objects, the sequence and motif, and returns the count and a list of all locations by the index of the sequence in a tuple.\n",
    "\n",
    "Here is an example scaffold for your code:\n",
    "- Initialise a list of locations and variables for storing the current base, location and motif count\n",
    "- Initialise a `while` loop while the current base is _less than_ the length of the input sequence\n",
    "    - **Inside this while loop**:\n",
    "    - Use the `sequence.find()` method to look for motifs starting at the current base\n",
    "    - If the finder discovers a match for the motif, add 1 to the current base and count, and append the locations list with the current base\n",
    "    - If no motifs are found, increase the current base by 1\n",
    "- Output a list of the count and the location list"
   ]
  },
  {
   "cell_type": "code",
   "execution_count": null,
   "metadata": {},
   "outputs": [],
   "source": [
    "#Exercise 4.1\n",
    "def findmotifs(sequence, motif):\n",
    "    #Your code here\n",
    "    #Initilaise your variables\n",
    "\n",
    "    while (base < len(sequence)):\n",
    "        # Use the .find() motif on sequence to look for motifs with start = base, set it to equal loc\n",
    "        if (loc > 0):\n",
    "            # Set the current base to +1 of the current location\n",
    "            # Append the locations list with loc+1 as result is 1-indexed\n",
    "            # Set count to count + 1\n",
    "        else:\n",
    "            # If loc = 0: up the base by 1\n",
    "    \n",
    "    return [count,locations]\n"
   ]
  },
  {
   "cell_type": "code",
   "execution_count": null,
   "metadata": {},
   "outputs": [],
   "source": [
    "#Test your code here\n",
    "findmotifs(Seq('GATATATGCATATACTT'),Seq('ATAT')) #Should return [3, [2, 4, 10]]"
   ]
  },
  {
   "cell_type": "markdown",
   "metadata": {},
   "source": [
    "Great! Sometimes, we often do not know exactly what motif we are looking for. A real-world motif application is combing through a series of genomes to identify common regions between them. In the next exercise, we will consider a simple case where we look for the longest common shared motif in a given readset, as a longer motif generally indicates a greater shared function. The input of the function will be a list of sequences, and the output should return a single sequence.\n",
    "\n",
    "Here is an example scaffold for your code:\n",
    "- Sort the reads from shortest to longest using the `sorted` function, with the key being the lengths of the reads\n",
    "- Seperate the shortest sequence and the rest of the readset into two variables\n",
    "- Initialise a blank string to store the motif\n",
    "- Start a `for` loop (with index i) iterating over the bases in the shortest sequence\n",
    "    - **Inside this for loop**\n",
    "    - Initialise another for loop (with index j) iterating from the current base to the rest of the shortest sequence\n",
    "    - **Inside this for loop**:\n",
    "        - Set the stem (potential longest motif) as the ith base to the j+1th base in the shortest sequence\n",
    "        - Initialse a `found` boolean variable as `False`\n",
    "        - Initialise yet _another_ for loop iterating over the rest of the sequences\n",
    "            - **Inside this for loop**\n",
    "            - If the stem was in the sequence, set `found` as true\n",
    "            - If not, set `found` as false and break the loop\n",
    "        - If found is true and the length of the current stem is longer than the stored motif, replace the current stored motif with the stem\n",
    "- Return the motif sequence\n"
   ]
  },
  {
   "cell_type": "code",
   "execution_count": null,
   "metadata": {},
   "outputs": [],
   "source": [
    "#Exercise 4.2\n",
    "def commonmotif(readset):\n",
    "    #Your code here\n",
    "    # Sort reads using sorted() and initialise variables\n",
    "    \n",
    "    for i in range(len(shortest_seq)):\n",
    "        for j in range(i, len(shortest_seq)):\n",
    "            # Get stem from shortest_seq, set found as false\n",
    "            \n",
    "            for seq in seqs:\n",
    "                # If stem in seq, set found as true, if not set as false and break the loop\n",
    "            \n",
    "            # If found is true and length of stem > length of motif, let motif = stem\n",
    "            \n",
    "    \n",
    "    return Seq(motif)"
   ]
  },
  {
   "cell_type": "code",
   "execution_count": null,
   "metadata": {},
   "outputs": [],
   "source": [
    "#Test your code here\n",
    "commonmotif([Seq('GATTACA'), Seq('TAGACCA'), Seq('ATACA')]) #Should return TA"
   ]
  },
  {
   "cell_type": "markdown",
   "metadata": {},
   "source": [
    "Now, we can try actually modifying a sequence, this time by removing adapter sequences. Adapter sequences are known artifical DNA sequences that serve to weed out specific DNA sequences of interest during illumina sequencing, and are generally removed as they are not part of the sequence of interest. In the last exercise of this workshop, we will create a function that will take a sequence and motif of interest, and remove that motif from the original sequence, returning the modified sequence.\n",
    "\n",
    "The function below takes four arguments: The readset, adapter sequence in question, the minimum match and the minimum length left over after removal. Output a list of sequences with the adapter sequence within them removed. If the sequence left over is lower than the minimum allowed length, remove the sequence from the readset."
   ]
  },
  {
   "cell_type": "code",
   "execution_count": null,
   "metadata": {},
   "outputs": [],
   "source": [
    "#Exercise 4.3\n",
    "def adapter_trim(reads, adapter_seq, min_match, min_length):\n",
    "    #Your code here\n",
    "    ### Get possible matches for adapter sequence\n",
    "    # Initialise possible matches list\n",
    "    \n",
    "    for i in range(len(adapter_seq) - min_match + 1):\n",
    "        #Append possible matches with adapter seq from i to min_match\n",
    "\n",
    "    ### Trim adapter sequences\n",
    "    # Initialise trimmed reads list and iterate over reads in readset\n",
    "    # Initialise matches list\n",
    "\n",
    "        \n",
    "        # Check  all possible match indexes before trimming read\n",
    "        # Iterate over possible matches list \n",
    "            # If there is a match, use the find() function to get the index of the match and append to the matches list\n",
    "\n",
    "\n",
    "        # Get the first match and trim (Use min() on matches list)\n",
    "        # If no match, will return full read\n",
    "\n",
    "\n",
    "    ### Filter trimmed reads\n",
    "    # Initialise filtered reads list\n",
    "    # Iterate over trimmed reads list\n",
    "        \n",
    "        # Append any read that is min_length bases long or longer\n",
    "\n",
    "    return filtered_reads"
   ]
  },
  {
   "cell_type": "code",
   "execution_count": null,
   "metadata": {},
   "outputs": [],
   "source": [
    "demo_reads = [Seq('GTTGGATTCATGAAAGA'), Seq('ATGAAATGAATGTCTTGA')]\n",
    "demo_adapter = Seq('GATGAAAG')\n",
    "print(adapter_trim(demo_reads, demo_adapter, 7, 15)) # should output a list with just one sequence: ATGAAATGAATGTCTTGA\n"
   ]
  },
  {
   "cell_type": "markdown",
   "metadata": {},
   "source": [
    "Excellent! This is the end of workshop 1 of Bioinformatics. Thanks for attending, and see you next time for workshop 2, where we will look at sequence alignment!"
   ]
  }
 ],
 "metadata": {
  "kernelspec": {
   "display_name": "Python 3",
   "language": "python",
   "name": "python3"
  },
  "language_info": {
   "codemirror_mode": {
    "name": "ipython",
    "version": 3
   },
   "file_extension": ".py",
   "mimetype": "text/x-python",
   "name": "python",
   "nbconvert_exporter": "python",
   "pygments_lexer": "ipython3",
   "version": "3.8.5"
  }
 },
 "nbformat": 4,
 "nbformat_minor": 4
}
