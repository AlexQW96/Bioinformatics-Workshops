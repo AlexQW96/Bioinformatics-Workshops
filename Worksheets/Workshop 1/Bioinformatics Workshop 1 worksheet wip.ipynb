{
 "cells": [
  {
   "cell_type": "markdown",
   "metadata": {},
   "source": [
    "# Bioinformatics Workshop 1\n",
    "\n",
    "Welcome to the first workshop of the MBSI Bioinformatics course! In this Jupyter notebook, we will introduce you to the basics of genetic code manipulation with scikit-bio. Feel free to work through the exercises at your own pace, and ask the tutors if you encounter any problems. You can run the coding cells using Shift + Enter.\n",
    "\n",
    "---"
   ]
  },
  {
   "cell_type": "markdown",
   "metadata": {},
   "source": [
    "## Getting started with biopython\n",
    "\n",
    "The first thing we will have to do is import Biopython, along with other relevant libraries."
   ]
  },
  {
   "cell_type": "code",
   "execution_count": 1,
   "metadata": {},
   "outputs": [
    {
     "name": "stdout",
     "output_type": "stream",
     "text": [
      "C:\\Users\\vince\\Documents\\mbsi\n"
     ]
    }
   ],
   "source": [
    "#Import libraries \n",
    "import numpy as np\n",
    "import pandas as pd\n",
    "import Bio\n",
    "from Bio.Seq import Seq\n",
    "from Bio import SeqIO\n",
    "from Bio.SeqRecord import SeqRecord\n",
    "from Bio.SeqUtils import GC\n",
    "%cd \"C:\\Users\\vince\\Documents\\mbsi\""
   ]
  },
  {
   "cell_type": "markdown",
   "metadata": {},
   "source": [
    "Next, we will use Biopython's `seq` object to input our first snippets of DNA code. Remember that only characters in the IUPAC DNA character set are supported, although in our case we will simply use A, T, C and G. The characters should be input as a string with no spaces, eg. `'ATGAGGCCT'`. Have a go in the cell below, and check out the result!"
   ]
  },
  {
   "cell_type": "code",
   "execution_count": 37,
   "metadata": {
    "scrolled": true
   },
   "outputs": [
    {
     "data": {
      "text/plain": [
       "Seq('ATGAGGCCT')"
      ]
     },
     "execution_count": 37,
     "metadata": {},
     "output_type": "execute_result"
    }
   ],
   "source": [
    "#Exercise 0a\n",
    "Seq('ATGAGGCCT')"
   ]
  },
  {
   "cell_type": "markdown",
   "metadata": {},
   "source": [
    "Sequences can be treated as normal python strings. Thus, we can get the length and iterate over the elements. For our first real exercise, write a function that iterates over a given sequence and prints the index next to the letter."
   ]
  },
  {
   "cell_type": "code",
   "execution_count": 38,
   "metadata": {},
   "outputs": [],
   "source": [
    "#Exercise 0b\n",
    "def printbases(seq):\n",
    "    for index, letter in enumerate(seq):\n",
    "        print(\"%i %s\" % (index, letter))"
   ]
  },
  {
   "cell_type": "code",
   "execution_count": 39,
   "metadata": {},
   "outputs": [
    {
     "name": "stdout",
     "output_type": "stream",
     "text": [
      "0 A\n",
      "1 T\n",
      "2 T\n",
      "3 A\n",
      "4 C\n",
      "5 G\n"
     ]
    }
   ],
   "source": [
    "#Test your code here\n",
    "printbases(Seq('ATTACG'))"
   ]
  },
  {
   "cell_type": "markdown",
   "metadata": {},
   "source": [
    "#### SeqRecord objects\n",
    "\n",
    "The SeqRecord is a class that allows for further metadata to be associated with a sequence, along with being the data type used for the `seqIO` input/output interface used by Biopython. It contains the following data as attributes, as defined by the biopython cookbook: (http://biopython.org/DIST/docs/tutorial/Tutorial.html#sec34)\n",
    "\n",
    "- .seq\n",
    "    - The sequence itself, typically a Seq object.\n",
    "- .id\n",
    "    - The primary ID used to identify the sequence – a string. In most cases this is something like an accession number.\n",
    "- .name\n",
    "    - A “common” name/id for the sequence – a string. In some cases this will be the same as the accession number, but it could also be a clone name. I think of this as being analogous to the LOCUS id in a GenBank record.\n",
    "- .description\n",
    "    - A human readable description or expressive name for the sequence – a string.\n",
    "- .letter_annotations\n",
    "    - Holds per-letter-annotations using a (restricted) dictionary of additional information about the letters in the sequence. The keys are the name of the information, and the information is contained in the value as a Python sequence (i.e. a list, tuple or string) with the same length as the sequence itself. This is often used for quality scores (e.g. Section ‍20.1.6) or secondary structure information (e.g. from Stockholm/PFAM alignment files).\n",
    "- .annotations\n",
    "    - A dictionary of additional information about the sequence. The keys are the name of the information, and the information is contained in the value. This allows the addition of more “unstructured” information to the sequence.\n",
    "- .features\n",
    "    - A list of SeqFeature objects with more structured information about the features on a sequence (e.g. position of genes on a genome, or domains on a protein sequence). The structure of sequence features is described below in Section ‍4.3.\n",
    "- .dbxrefs\n",
    "    - A list of database cross-references as strings."
   ]
  },
  {
   "cell_type": "markdown",
   "metadata": {},
   "source": [
    "To start off, you can create a SeqRecord  with just a Seq object."
   ]
  },
  {
   "cell_type": "code",
   "execution_count": 47,
   "metadata": {},
   "outputs": [],
   "source": [
    "my_seq = Seq('ATTAG')\n",
    "my_seqr = SeqRecord(my_seq)"
   ]
  },
  {
   "cell_type": "markdown",
   "metadata": {},
   "source": [
    "Next, you can use the Seqrecord attributes to modify the name, id, description and other information."
   ]
  },
  {
   "cell_type": "code",
   "execution_count": 49,
   "metadata": {},
   "outputs": [
    {
     "name": "stdout",
     "output_type": "stream",
     "text": [
      "ID: MX123812\n",
      "Name: Cool name\n",
      "Description: Just a sequence I made up\n",
      "Number of features: 0\n",
      "Seq('ATTAG')\n"
     ]
    }
   ],
   "source": [
    "my_seqr.id = 'MX123812'\n",
    "my_seqr.name = 'Cool name'\n",
    "my_seqr.description = 'Just a sequence I made up'\n",
    "print(my_seqr)"
   ]
  },
  {
   "cell_type": "markdown",
   "metadata": {},
   "source": [
    "Next, we will import real-world data using Seqrecord."
   ]
  },
  {
   "cell_type": "markdown",
   "metadata": {},
   "source": [
    "#### Importing Fasta and Fastq files\n",
    "\n",
    "Today, we'll be using Genbank, Fasta and Fastq files containing real-world genetic information. To import them, we will use Entrez to retrieve data from NCBI's databases such as PubMed, GenBank and others. In this case, we first use `Entrez.email` to give an email to NCBI to let them know who we are. Next, we use `Entrez.efetch` to retrieve the desired information. Here, it is a fasta file from the nucleotide database, with the id of NC_045512.2. Retmode denotes the mode of retrieval, in this case trext instead of xml. Next, `SeqIO.read()` is used to read the fasta file retrieved into a Seqrecord object."
   ]
  },
  {
   "cell_type": "code",
   "execution_count": 3,
   "metadata": {
    "scrolled": true
   },
   "outputs": [
    {
     "name": "stdout",
     "output_type": "stream",
     "text": [
      "ID: NC_045512.2\n",
      "Name: NC_045512\n",
      "Description: Severe acute respiratory syndrome coronavirus 2 isolate Wuhan-Hu-1, complete genome\n",
      "Database cross-references: BioProject:PRJNA485481\n",
      "Number of features: 57\n",
      "/molecule_type=ss-RNA\n",
      "/topology=linear\n",
      "/data_file_division=VRL\n",
      "/date=18-JUL-2020\n",
      "/accessions=['NC_045512']\n",
      "/sequence_version=2\n",
      "/keywords=['RefSeq']\n",
      "/source=Severe acute respiratory syndrome coronavirus 2 (SARS-CoV-2)\n",
      "/organism=Severe acute respiratory syndrome coronavirus 2\n",
      "/taxonomy=['Viruses', 'Riboviria', 'Orthornavirae', 'Pisuviricota', 'Pisoniviricetes', 'Nidovirales', 'Cornidovirineae', 'Coronaviridae', 'Orthocoronavirinae', 'Betacoronavirus', 'Sarbecovirus']\n",
      "/references=[Reference(title='A new coronavirus associated with human respiratory disease in China', ...), Reference(title='Programmed ribosomal frameshifting in decoding the SARS-CoV genome', ...), Reference(title='The structure of a rigorously conserved RNA element within the SARS virus genome', ...), Reference(title=\"A phylogenetically conserved hairpin-type 3' untranslated region pseudoknot functions in coronavirus RNA replication\", ...), Reference(title='Direct Submission', ...), Reference(title='Direct Submission', ...)]\n",
      "/comment=REVIEWED REFSEQ: This record has been curated by NCBI staff. The\n",
      "reference sequence is identical to MN908947.\n",
      "On Jan 17, 2020 this sequence version replaced NC_045512.1.\n",
      "Annotation was added using homology to SARSr-CoV NC_004718.3. ###\n",
      "Formerly called 'Wuhan seafood market pneumonia virus.' If you have\n",
      "questions or suggestions, please email us at info@ncbi.nlm.nih.gov\n",
      "and include the accession number NC_045512.### Protein structures\n",
      "can be found at\n",
      "https://www.ncbi.nlm.nih.gov/structure/?term=sars-cov-2.### Find\n",
      "all other Severe acute respiratory syndrome coronavirus 2\n",
      "(SARS-CoV-2) sequences at\n",
      "https://www.ncbi.nlm.nih.gov/genbank/sars-cov-2-seqs/\n",
      "COMPLETENESS: full length.\n",
      "/structured_comment=OrderedDict([('Assembly-Data', OrderedDict([('Assembly Method', 'Megahit v. V1.1.3'), ('Sequencing Technology', 'Illumina')]))])\n",
      "Seq('ATTAAAGGTTTATACCTTCCCAGGTAACAAACCAACCAACTTTCGATCTCTTGT...AAA')\n"
     ]
    }
   ],
   "source": [
    "import Bio\n",
    "from Bio import Entrez, SeqIO\n",
    "Entrez.email = 'vincentkoh1998@gmail.com'\n",
    "handle = Entrez.efetch(db=\"nucleotide\", id='NC_045512.2', rettype = 'gb', retmode=\"text\")\n",
    "record = SeqIO.read(handle,'gb')\n",
    "print(record)"
   ]
  },
  {
   "cell_type": "markdown",
   "metadata": {},
   "source": [
    "Wow- now _that_ is a long sequence of DNA. But just how long? We can use `len()` as usual on a  Seq data type to find out. "
   ]
  },
  {
   "cell_type": "code",
   "execution_count": 6,
   "metadata": {},
   "outputs": [
    {
     "data": {
      "text/plain": [
       "29903"
      ]
     },
     "execution_count": 6,
     "metadata": {},
     "output_type": "execute_result"
    }
   ],
   "source": [
    "len(record.seq)"
   ]
  },
  {
   "cell_type": "markdown",
   "metadata": {},
   "source": [
    "Yeah, that's pretty long. Luckily, `scikit-bio` has a variety of useful methods we can use on the DNA data type to help us manage and interpret the sequence. Firstly, qualitative methods such as `gaps()` and `has_metadata()` help us quickly make sense of the seqeunce."
   ]
  },
  {
   "cell_type": "markdown",
   "metadata": {},
   "source": [
    "## Exercise 1: Counting Nucleotides\n",
    "\n",
    "For our first exercise, we will write a simple function that will count the number of times `A`, `T`, `C` and `G` appear in our DNA sequence. To help you with this, here is a scaffold for the code needed:\n",
    "\n",
    "\n",
    "- Create four **variables** that will keep track of the nucleotide counts. \n",
    "- Create a `for` loop to iterate along the enitre seqeunce\n",
    "- Inside that `for` loop, add 1 to the counting variables everytime the iterator encounters the variables' corresponding letter.\n",
    "- Return a dictionary of the nucleotide letter and its corresponding count.\n",
    "\n",
    "> 💡 **Hint:**\n",
    "Convert the sequence into a string before or in the for loop."
   ]
  },
  {
   "cell_type": "code",
   "execution_count": 9,
   "metadata": {},
   "outputs": [],
   "source": [
    "#Excercise 1a\n",
    "def NuCounter(Sequence):\n",
    "    #your code here\n",
    "    countA = 0\n",
    "    countT = 0\n",
    "    countC = 0\n",
    "    countG = 0\n",
    "    for nuc in str(Sequence):\n",
    "        if nuc == 'A':\n",
    "            countA += 1\n",
    "        elif nuc == 'T':\n",
    "            countT += 1\n",
    "        elif nuc == 'C':\n",
    "            countC += 1\n",
    "        elif nuc == 'G':\n",
    "            countG += 1\n",
    "        \n",
    "    return {'A':countA, 'T':countT, 'C':countC, 'G':countG}\n"
   ]
  },
  {
   "cell_type": "code",
   "execution_count": 10,
   "metadata": {},
   "outputs": [
    {
     "name": "stdout",
     "output_type": "stream",
     "text": [
      "{'A': 5, 'T': 3, 'C': 4, 'G': 4}\n",
      "{'A': 8954, 'T': 9594, 'C': 5492, 'G': 5863}\n"
     ]
    }
   ],
   "source": [
    "#Test your code below\n",
    "print(NuCounter(Seq('ATCGGTCCAAGTACAG')) )#Should return {'A': 5, 'T': 3, 'C': 4, 'G': 4}\n",
    "print(NuCounter(record.seq))"
   ]
  },
  {
   "cell_type": "markdown",
   "metadata": {},
   "source": [
    "Good job! As it turns out, `Biopython` already has a built-in method to count the nucleotides, `count()`. Oh well, at least we know how that works now. Using the `count` method below:"
   ]
  },
  {
   "cell_type": "code",
   "execution_count": 7,
   "metadata": {},
   "outputs": [
    {
     "name": "stdout",
     "output_type": "stream",
     "text": [
      "8954\n",
      "9594\n",
      "5492\n",
      "5863\n"
     ]
    }
   ],
   "source": [
    "print(record.seq.count('A'))\n",
    "print(record.seq.count('T'))\n",
    "print(record.seq.count('C'))\n",
    "print(record.seq.count('G'))\n"
   ]
  },
  {
   "cell_type": "markdown",
   "metadata": {},
   "source": [
    "Good to see that our results match up. Looks like our function still saves us a bit of work since we only need to input the sequence once! In addition to the A,T,C and Gs, we can also ahve other nucleotides pop up, such as N. This just means that the specific position can be occupied by any nucleotide. There are other nucleotide codes such as B, which signifies if a position is occupied by a C, G or T. Try modifying your code in exercise 1a to include counting the N positions for the following sample:"
   ]
  },
  {
   "cell_type": "code",
   "execution_count": 31,
   "metadata": {},
   "outputs": [
    {
     "name": "stdout",
     "output_type": "stream",
     "text": [
      "ID: s_harrisii_sample\n",
      "Name: s_harrisii_sample\n",
      "Description: s_harrisii_sample\n",
      "Number of features: 0\n",
      "Seq('TATTTACTTTCAGTTTTATTAATCTCCTCATTTTATTGGAAGAATTTTTGTTTG...TTT')\n"
     ]
    }
   ],
   "source": [
    "Sample = SeqIO.read('Sample.fasta', 'fasta')\n",
    "print(Sample)"
   ]
  },
  {
   "cell_type": "code",
   "execution_count": 22,
   "metadata": {},
   "outputs": [],
   "source": [
    "#Excercise 1b\n",
    "def NuCounterN(Sequence):\n",
    "    #your code here\n",
    "    countA = 0\n",
    "    countT = 0\n",
    "    countC = 0\n",
    "    countG = 0\n",
    "    countN = 0\n",
    "    for nuc in str(Sequence):\n",
    "        if nuc == 'A':\n",
    "            countA += 1\n",
    "        elif nuc == 'T':\n",
    "            countT += 1\n",
    "        elif nuc == 'C':\n",
    "            countC += 1\n",
    "        elif nuc == 'G':\n",
    "            countG += 1\n",
    "        else:\n",
    "            countN += 1\n",
    "        \n",
    "    return {'A':countA, 'T':countT, 'C':countC, 'G':countG, 'N':countN}\n"
   ]
  },
  {
   "cell_type": "code",
   "execution_count": 32,
   "metadata": {},
   "outputs": [
    {
     "name": "stdout",
     "output_type": "stream",
     "text": [
      "{'A': 5, 'T': 3, 'C': 4, 'G': 4, 'N': 3}\n",
      "{'A': 42333, 'T': 44167, 'C': 22201, 'G': 21760, 'N': 103}\n"
     ]
    }
   ],
   "source": [
    "#Test your code below\n",
    "print(NuCounterN(Seq('ATNCGGTCCAAGNNTACAG')) )#Should return {'A': 5, 'T': 3, 'C': 4, 'G': 4, 'N': 3}\n",
    "print(NuCounterN(Sample.seq))"
   ]
  },
  {
   "cell_type": "markdown",
   "metadata": {},
   "source": [
    "**Great!** Another good use for counting nucleotides is determining the _GC content of a seqeunce_. The GC content is the percentage of bases in DNA or RNA that are either guanine (G) or cytosine (C). Knowing the GC content of a sequence has a variety of biological uses. For example, determining the evolution of a genome by recombination through tracking the GC-content over time, and discovering relationships between chromosome sizes and life-history traits.\n",
    "\n",
    "For us to get to that point though, we first have to write a function to determine the GC content. You can adapt the code you have already written in the previous exercises to make your life eaiser. Return the output as the sentence `'This sequence has a GC content of [your result]%.'`. "
   ]
  },
  {
   "cell_type": "code",
   "execution_count": 54,
   "metadata": {},
   "outputs": [],
   "source": [
    "#Exercise 1c\n",
    "def GcCount(Sequence):\n",
    "    #Your code here\n",
    "    countG = 0\n",
    "    countC = 0\n",
    "    for nuc in str(Sequence):\n",
    "        if nuc == 'G':\n",
    "            countG += 1\n",
    "        elif nuc == 'C':\n",
    "            countC += 1\n",
    "    \n",
    "    GCpercent = ((countG+countC)/len(Sequence))*100\n",
    "    \n",
    "    return 'This sequence has a GC content of ' + str(GCpercent) + '%.'\n",
    "    "
   ]
  },
  {
   "cell_type": "code",
   "execution_count": 55,
   "metadata": {},
   "outputs": [
    {
     "name": "stdout",
     "output_type": "stream",
     "text": [
      "This sequence has a GC content of 37.97277865097147%.\n"
     ]
    }
   ],
   "source": [
    "#Test your code below\n",
    "print(GcCount(record.seq)) #output should be 'This sequence has a GC content of 33.670077509880215%.'"
   ]
  },
  {
   "cell_type": "markdown",
   "metadata": {},
   "source": [
    "**Excellent!** Again, `Biopython` has us beat. The in-built function `GC()` and calculates the GC content for us already."
   ]
  },
  {
   "cell_type": "code",
   "execution_count": 33,
   "metadata": {},
   "outputs": [
    {
     "name": "stdout",
     "output_type": "stream",
     "text": [
      "37.97277865097148\n"
     ]
    }
   ],
   "source": [
    "print(GC(record.seq)) #Note that the output is a decimal, not percentage."
   ]
  },
  {
   "cell_type": "markdown",
   "metadata": {},
   "source": [
    "Now that you are familiar with counting nucleotides on one sequence, time to do it on a list of sequences in a Fastq file.\n",
    "\n",
    "---"
   ]
  },
  {
   "cell_type": "markdown",
   "metadata": {},
   "source": [
    "## Exercise 2: Working with multiple sequences\n",
    "\n",
    "As mentioned in the slides, the FASTQ file differs from the usual FASTA format in that it contains a  _set_ of reads, each with their own quality scores and metadata, rather than just a single string. This means that a slightly different method of importing and code is needed."
   ]
  },
  {
   "cell_type": "markdown",
   "metadata": {},
   "source": [
    "#### Importing a set of reads\n",
    "\n",
    "Firstly, we shall use `SeqIO.parse` to read in the FASTQ file. This time, we will initialise a list for the reads, then append the reads into the list. Note that we need two arguments to input into `SeqIO.parse`: the file name and the file type. Here, we have used 'fastq-sanger' to indicate that the quality scores are in base 33 ASCII, rather than the base 64."
   ]
  },
  {
   "cell_type": "code",
   "execution_count": 17,
   "metadata": {},
   "outputs": [],
   "source": [
    "#Append to a list of reads\n",
    "Readset = []\n",
    "for seq_record in SeqIO.parse(\"ws1.fastq\", \"fastq-sanger\"):\n",
    "    Readset.append(seq_record)\n"
   ]
  },
  {
   "cell_type": "code",
   "execution_count": 18,
   "metadata": {},
   "outputs": [
    {
     "name": "stdout",
     "output_type": "stream",
     "text": [
      "200\n"
     ]
    }
   ],
   "source": [
    "#Lets see what we're working with:\n",
    "print(len(Readset))\n",
    "#print(Readset)"
   ]
  },
  {
   "cell_type": "markdown",
   "metadata": {},
   "source": [
    "Again, that's a whole lot of reads. So how are we going to make sense of them? Well, getting the minimum, maximum and average lengths of the reads would be a good start. Here is a scaffold to use when constructing the function:\n",
    "\n",
    "- Create an empty list to store the read lengths of all the sequences in the readset.\n",
    "- Iterate using a for loop across all the reads in the readset, and store the lengths of each read in the list.\n",
    "- Calculate the minimum, maximum and average lengths using the `min()`, `max()` and `sum()` functions.\n",
    "- Return a dictionary containing the labels `min_length`, `max_length` and `avg_length`."
   ]
  },
  {
   "cell_type": "code",
   "execution_count": 14,
   "metadata": {},
   "outputs": [],
   "source": [
    "#Exercise 2a\n",
    "def read_lengths(readset):\n",
    "    #Your code here\n",
    "    \n",
    "    read_lengths = []\n",
    "    for read in readset:\n",
    "        read_lengths.append(len(read))\n",
    "    \n",
    "    lengthmin = min(read_lengths)\n",
    "    lengthmax = max(read_lengths)\n",
    "    lengthavg = sum(read_lengths)/float(len(read_lengths))\n",
    "    \n",
    "    return {'min_length':lengthmin, 'max_length':lengthmax, 'avg_length':lengthavg}"
   ]
  },
  {
   "cell_type": "code",
   "execution_count": 19,
   "metadata": {},
   "outputs": [
    {
     "name": "stdout",
     "output_type": "stream",
     "text": [
      "{'min_length': 56, 'max_length': 76, 'avg_length': 75.445}\n"
     ]
    }
   ],
   "source": [
    "#Test your code here\n",
    "print(read_lengths(Readset)) #Output should be \"{'min_length': 56, 'max_length': 76, 'avg_length': 75.445}\""
   ]
  },
  {
   "cell_type": "markdown",
   "metadata": {},
   "source": [
    "**Nice!** Now, let's put together what we have learned so far. Create a function that outputs the average number of nucleotides A, T, C and G in a given readset. You do not have to consider any other DNA code character. This time, we will be using nested for loops, the outer one iterating over the reads, and the inner one iterating over each nucleotide in the sequence.\n",
    "\n",
    "Here is a scaffold to help you along:\n",
    "- Initialise four lists to keep track of the average counts of each nucleotide for each read\n",
    "- Start a for loop interating over every read in the readset\n",
    "    - **inside this loop:**\n",
    "    - Create four **variables** that will keep track of the nucleotide counts. \n",
    "    - Create a `for` loop to iterate along the enitre seqeunce\n",
    "        -  **Inside this loop:** \n",
    "        - Add 1 to the counting variables everytime the iterator encounters the variables' corresponding letter.\n",
    "    - Append the counts to their corresponding lists.\n",
    "- Take the average of each list (you can use `np.mean()` instead of using `sum()` and dividing)\n",
    "- Return a dictionary containg the labels `avgA`, `avgT`, `avgC`, and `avgG` with their corresponding average counts.\n",
    "\n",
    "> 💡 **Hint:**\n",
    "A lot of the code inside the first `for` loop can be adapted or directly taken from your function in Exercise 1a!\n"
   ]
  },
  {
   "cell_type": "code",
   "execution_count": 34,
   "metadata": {},
   "outputs": [],
   "source": [
    "#Exercise 2b\n",
    "def avgATCG(readset):\n",
    "    #Your code here\n",
    "    \n",
    "    listA = []\n",
    "    listT = []\n",
    "    listC = []\n",
    "    listG = []\n",
    "    \n",
    "    for read in readset:\n",
    "        countA = 0\n",
    "        countT = 0\n",
    "        countC = 0\n",
    "        countG = 0\n",
    "        \n",
    "        for nuc in str(read):\n",
    "            if nuc == 'A':\n",
    "                countA += 1\n",
    "            elif nuc == 'T':\n",
    "                countT += 1\n",
    "            elif nuc == 'C':\n",
    "                countC += 1\n",
    "            elif nuc == 'G':\n",
    "                countG += 1\n",
    "            \n",
    "        listA.append(countA)\n",
    "        listT.append(countT)\n",
    "        listC.append(countC)\n",
    "        listG.append(countG)\n",
    "    \n",
    "    return {'avgA':np.mean(listA), 'avgT':np.mean(listT), 'avgC':np.mean(listC), 'avgG':np.mean(listG)}"
   ]
  },
  {
   "cell_type": "code",
   "execution_count": 35,
   "metadata": {},
   "outputs": [
    {
     "name": "stdout",
     "output_type": "stream",
     "text": [
      "{'avgA': 15.065, 'avgT': 14.32, 'avgC': 13.665, 'avgG': 13.945}\n"
     ]
    }
   ],
   "source": [
    "#Test your code here\n",
    "print(avgATCG(Readset)) #output should be '{'avgA': 19.66, 'avgT': 18.905, 'avgC': 18.31, 'avgG': 18.57}'"
   ]
  },
  {
   "cell_type": "markdown",
   "metadata": {},
   "source": [
    "**Well Done!** Nested `for` loops are essential when dealing with a _set_ of sequences or reads. Now, we shall now take a look at transcribing, complementing and translating DNA sequences.\n",
    "\n",
    "---"
   ]
  },
  {
   "cell_type": "markdown",
   "metadata": {},
   "source": [
    "## Exercise 3: Transcribing and Translating\n",
    "\n",
    "\n",
    "Genes provide information to create _proteins_. The production happens through two processes: **Transcription** and **Translation**. Transcription involves the using the DNA strand as a template to build a sequence of _RNA_. During translation, amino acids are produced according to the information from the RNA sequence. In the next few exercises, we will create a series of functions that will simulate this process."
   ]
  },
  {
   "cell_type": "markdown",
   "metadata": {},
   "source": [
    "Firstly, let's understand the basics of transcription. \n",
    "- **The four nucleotides found in DNA:** Adenine (A), Cytosine (C), Guanine (G), and Thymine (T).\n",
    "- **The four nucleotides found in RNA**: Adenine (A), Cytosine (C), Guanine (G), and Uracil (U).\n",
    "\n",
    "As you can see, RNA does not have a T nucleotide- instead, it contains Uracil(U) which we can treat as an equivalent.\n",
    "\n",
    "For each DNA strand, the transcribed RNA strand is made by adding on the DNA's _complement nucleotide_. In this case:\n",
    "- A &rarr; U\n",
    "- T &rarr; A\n",
    "- C &rarr; G\n",
    "- G &rarr; C\n",
    "\n",
    "In the exercise below, we shall be essentially following this process to output a transcribed sequence of RNA form a DNA input."
   ]
  },
  {
   "cell_type": "markdown",
   "metadata": {},
   "source": [
    "Here is a useful scaffold for the code needed:\n",
    "- Create a `for` loop iterating over every nucleotide of the sequence\n",
    "- Use `if` statements to replace the nucleotide at that specific position with it's RNA complement\n",
    "- Return a sequence of the transcribed RNA"
   ]
  },
  {
   "cell_type": "code",
   "execution_count": 36,
   "metadata": {},
   "outputs": [],
   "source": [
    "#Exercise 3a\n",
    "def transcribe(Sequence):\n",
    "    #Your code here\n",
    "    l = list(str(Sequence))\n",
    "    \n",
    "    for i in range(len(Sequence)):\n",
    "      \n",
    "      if(l[i] == 'G'):\n",
    "        l[i] = 'C'\n",
    "  \n",
    "      elif(l[i] == 'C'):\n",
    "          l[i] = 'G'\n",
    "  \n",
    "      elif (l[i] == 'T'):\n",
    "          l[i] = 'A'\n",
    "  \n",
    "      elif (l[i] == 'A'):\n",
    "          l[i] = 'U'\n",
    "     \n",
    "    output_seq = ''\n",
    "    \n",
    "    for base in l:\n",
    "        output_seq += base\n",
    "    \n",
    "    return output_seq\n",
    "        \n",
    "    "
   ]
  },
  {
   "cell_type": "code",
   "execution_count": 37,
   "metadata": {
    "scrolled": false
   },
   "outputs": [
    {
     "name": "stdout",
     "output_type": "stream",
     "text": [
      "CGAUU\n"
     ]
    }
   ],
   "source": [
    "#Test your code here\n",
    "print(transcribe(Seq('GCTAA'))) #should return CGAUU\n",
    "#print(transcribe(record.seq)) "
   ]
  },
  {
   "cell_type": "markdown",
   "metadata": {},
   "source": [
    "The next step is for the information in RNA to be **translated** to proteins. This is done by every three bases in the RNA sequence being correlated to an animo acid. For example, the three bases, or **codon**, 'GTC' codes for the amino acid valine. The sequences of animo acids form the building blocks of proteins, each with their own particualr functions. \n",
    "\n",
    "The coding system for the codons and amino acids is known as the genetic code. There are many different genetic codes, with the most common being the standard genetic code. This code can be called from skbio."
   ]
  },
  {
   "cell_type": "code",
   "execution_count": 38,
   "metadata": {},
   "outputs": [
    {
     "name": "stdout",
     "output_type": "stream",
     "text": [
      "Table 1 Standard, SGC0\n",
      "\n",
      "  |  T      |  C      |  A      |  G      |\n",
      "--+---------+---------+---------+---------+--\n",
      "T | TTT F   | TCT S   | TAT Y   | TGT C   | T\n",
      "T | TTC F   | TCC S   | TAC Y   | TGC C   | C\n",
      "T | TTA L   | TCA S   | TAA Stop| TGA Stop| A\n",
      "T | TTG L(s)| TCG S   | TAG Stop| TGG W   | G\n",
      "--+---------+---------+---------+---------+--\n",
      "C | CTT L   | CCT P   | CAT H   | CGT R   | T\n",
      "C | CTC L   | CCC P   | CAC H   | CGC R   | C\n",
      "C | CTA L   | CCA P   | CAA Q   | CGA R   | A\n",
      "C | CTG L(s)| CCG P   | CAG Q   | CGG R   | G\n",
      "--+---------+---------+---------+---------+--\n",
      "A | ATT I   | ACT T   | AAT N   | AGT S   | T\n",
      "A | ATC I   | ACC T   | AAC N   | AGC S   | C\n",
      "A | ATA I   | ACA T   | AAA K   | AGA R   | A\n",
      "A | ATG M(s)| ACG T   | AAG K   | AGG R   | G\n",
      "--+---------+---------+---------+---------+--\n",
      "G | GTT V   | GCT A   | GAT D   | GGT G   | T\n",
      "G | GTC V   | GCC A   | GAC D   | GGC G   | C\n",
      "G | GTA V   | GCA A   | GAA E   | GGA G   | A\n",
      "G | GTG V   | GCG A   | GAG E   | GGG G   | G\n",
      "--+---------+---------+---------+---------+--\n"
     ]
    }
   ],
   "source": [
    "from Bio.Data import CodonTable\n",
    "standard_table = CodonTable.unambiguous_dna_by_id[1]\n",
    "print(standard_table)"
   ]
  },
  {
   "cell_type": "markdown",
   "metadata": {},
   "source": [
    "Reading down the columns, the amino acid 'F', or phenylalanine, is coded by codons UUU and UUC, and so on. In the exercise below, we shall write a function that takes transcibed RNA seqeunces and outputs a string of its corresponding amino acids. This can be done by using a whole bunch of `if` and `elif` statements, but an easier way would be to use a dictionary, like the one provided:"
   ]
  },
  {
   "cell_type": "code",
   "execution_count": 39,
   "metadata": {},
   "outputs": [],
   "source": [
    "stdcodeRNA = {\n",
    "        'AUA':'I', 'AUC':'I', 'AUU':'I', 'AUG':'M',\n",
    "        'ACA':'T', 'ACC':'T', 'ACG':'T', 'ACU':'T',\n",
    "        'AAC':'N', 'AAU':'N', 'AAA':'K', 'AAG':'K',\n",
    "        'AGC':'S', 'AGU':'S', 'AGA':'R', 'AGG':'R',                 \n",
    "        'CUA':'L', 'CUC':'L', 'CUG':'L', 'CUU':'L',\n",
    "        'CCA':'P', 'CCC':'P', 'CCG':'P', 'CCU':'P',\n",
    "        'CAC':'H', 'CAU':'H', 'CAA':'Q', 'CAG':'Q',\n",
    "        'CGA':'R', 'CGC':'R', 'CGG':'R', 'CGU':'R',\n",
    "        'GUA':'V', 'GUC':'V', 'GUG':'V', 'GUU':'V',\n",
    "        'GCA':'A', 'GCC':'A', 'GCG':'A', 'GCU':'A',\n",
    "        'GAC':'D', 'GAU':'D', 'GAA':'E', 'GAG':'E',\n",
    "        'GGA':'G', 'GGC':'G', 'GGG':'G', 'GGU':'G',\n",
    "        'UCA':'S', 'UCC':'S', 'UCG':'S', 'UCU':'S',\n",
    "        'UUC':'F', 'UUU':'F', 'UUA':'L', 'UUG':'L',\n",
    "        'UAC':'Y', 'UAU':'Y', 'UAA':'_', 'UAG':'_',\n",
    "        'UGC':'C', 'UGU':'C', 'UGA':'_', 'UGG':'W',\n",
    "    }"
   ]
  },
  {
   "cell_type": "markdown",
   "metadata": {},
   "source": [
    "The function will now need two inputs - the sequence and its corresponding genetic code dictionary. A possible scaffold for the function would be as follows:\n",
    "\n",
    "- Intitialise the output protein string\n",
    "- Create a `for` loop iterating over every _three_ bases in the sequence\n",
    "- **Inside this loop**:\n",
    "    - Define a codon as a sequence from the current index to three indexes further down the sequence\n",
    "    - Append the output protein string with the corresponding value in the dictionary using the codon as the key\n",
    "- Return the string of proteins as the output\n",
    "\n",
    "> 💡 **Hint:**\n",
    "Ignore bases or codons containing bases other than A,U,C,G."
   ]
  },
  {
   "cell_type": "code",
   "execution_count": 40,
   "metadata": {},
   "outputs": [],
   "source": [
    "#Exercise 3b\n",
    "def translate(Sequence, Gencode):\n",
    "    #Your code here\n",
    "    output_prot = ''\n",
    "    \n",
    "    for i in range(0, len(Sequence), 3):\n",
    "        codon = Sequence[i:i+3]\n",
    "        for key in Gencode:\n",
    "            if codon == key:\n",
    "                output_prot += Gencode[codon]\n",
    "        \n",
    "    return output_prot"
   ]
  },
  {
   "cell_type": "code",
   "execution_count": 42,
   "metadata": {},
   "outputs": [
    {
     "data": {
      "text/plain": [
       "'FIP'"
      ]
     },
     "execution_count": 42,
     "metadata": {},
     "output_type": "execute_result"
    }
   ],
   "source": [
    "#Test your code here\n",
    "translate('UUCAUUCCA',stdcodeRNA) #Should return FIP\n",
    "#print(translate(transcribe(record.seq),stdcodeRNA))"
   ]
  },
  {
   "cell_type": "markdown",
   "metadata": {},
   "source": [
    "Great! Now, we can try combining our two functions into one that iterates over a `readset`. You can just call your functions that you have written inside this larger function to save yourself some work. Output a list of protein strings.\n"
   ]
  },
  {
   "cell_type": "code",
   "execution_count": 43,
   "metadata": {},
   "outputs": [],
   "source": [
    "#Exercise 3c\n",
    "def Readsetprot(readset, Gencode):\n",
    "    \n",
    "    def transcribe(Sequence):\n",
    "        #Your code here\n",
    "        l = list(str(Sequence))\n",
    "    \n",
    "        for i in range(len(Sequence)):\n",
    "      \n",
    "          if(l[i] == 'G'):\n",
    "            l[i] = 'C'\n",
    "  \n",
    "          elif(l[i] == 'C'):\n",
    "              l[i] = 'G'\n",
    "  \n",
    "          elif (l[i] == 'T'):\n",
    "              l[i] = 'A'\n",
    "  \n",
    "          elif (l[i] == 'A'):\n",
    "              l[i] = 'U'\n",
    "     \n",
    "        output_seq = ''\n",
    "    \n",
    "        for base in l:\n",
    "            output_seq += base\n",
    "    \n",
    "        return output_seq\n",
    "    \n",
    "    def translate(Sequence, Gencode):\n",
    "        #Your code here\n",
    "        output_prot = ''\n",
    "    \n",
    "        for i in range(0, len(Sequence), 3):\n",
    "            codon = Sequence[i:i+3]\n",
    "            for key in Gencode:\n",
    "                if codon == key:\n",
    "                    output_prot += Gencode[codon]\n",
    "        \n",
    "        return output_prot\n",
    "    \n",
    "    #Your code here\n",
    "    output_prot = []\n",
    "    \n",
    "    for read in readset:\n",
    "        RNA = transcribe(read)\n",
    "        output_prot.append(translate(RNA, Gencode))\n",
    "        \n",
    "    return output_prot\n",
    "        "
   ]
  },
  {
   "cell_type": "code",
   "execution_count": 44,
   "metadata": {},
   "outputs": [
    {
     "data": {
      "text/plain": [
       "['PQPGQQSKQT',\n",
       " 'AGHTDTADQ',\n",
       " 'SQPPKGHAPTR',\n",
       " 'NNTAANAQ',\n",
       " 'RAKREKG',\n",
       " 'KANQAGS',\n",
       " 'QAPTTKRE',\n",
       " 'GRGTAP',\n",
       " 'RQTDEQKSTRP',\n",
       " 'RKEHTP',\n",
       " 'KRKRAKRA',\n",
       " 'ETSN',\n",
       " 'TSGAAKKK',\n",
       " 'GGAGKTPRPP',\n",
       " 'ARENRRQT',\n",
       " 'GKTAQR',\n",
       " 'ADEP',\n",
       " 'GRRNRHSQS',\n",
       " 'PRKQQHA',\n",
       " 'TQGEQK',\n",
       " 'ARPQSTR',\n",
       " 'KAKKHD',\n",
       " 'RPQNRGAQ',\n",
       " 'QTGEQKAN',\n",
       " 'EKG',\n",
       " 'RATQEKKKKKKEKTR',\n",
       " 'RTRGKKKKKKKT',\n",
       " 'DQHQET',\n",
       " 'KGKGE',\n",
       " 'RKGP',\n",
       " 'GERTA',\n",
       " 'QAAGG',\n",
       " 'PASPARGGRNES',\n",
       " 'TEARQST',\n",
       " 'ADGP',\n",
       " 'KPRATQTQKN',\n",
       " 'KDRH',\n",
       " 'TDRPATP',\n",
       " 'PGKRKAG',\n",
       " 'RQPNE',\n",
       " 'SRRREP',\n",
       " 'KGGN',\n",
       " 'AAATPDENKKPN',\n",
       " 'RRPPTAAGGAQA',\n",
       " 'PAATKAQTPT',\n",
       " 'HKKKKRG',\n",
       " 'TKGKAQGQ',\n",
       " 'RHTGRQETS',\n",
       " 'KRRQHAP',\n",
       " 'RGNTRGRPG',\n",
       " 'ANEPETKGRGKR',\n",
       " 'NGP',\n",
       " 'QEEREQT',\n",
       " 'AASTSR',\n",
       " 'GQKPKG',\n",
       " 'SQGAGE',\n",
       " 'SKAEQHKT',\n",
       " 'PAQREGG',\n",
       " 'PKTTSQE',\n",
       " 'PQKQHRET',\n",
       " 'ETPQNT',\n",
       " 'RSAAAGG',\n",
       " 'STKEGD',\n",
       " 'GPAGPPTQT',\n",
       " 'RATSKR',\n",
       " 'PHQDAD',\n",
       " 'PTPERQG',\n",
       " 'TQTTTK',\n",
       " 'RHQTRAAST',\n",
       " 'RPGKDQS',\n",
       " 'EA',\n",
       " 'RPAQGPR',\n",
       " 'GPTAQPTQE',\n",
       " 'RHRGPGKKKTQ',\n",
       " 'PRTGPPDPDA',\n",
       " 'AGSKKATGKG',\n",
       " 'ASKRAHGHK',\n",
       " 'KASKQRGT',\n",
       " 'PTPQQETGDR',\n",
       " 'PTGKA',\n",
       " 'GRTSR',\n",
       " 'PATRRHT',\n",
       " 'TGTPKPP',\n",
       " 'DQRRQPEERAE',\n",
       " 'PGNQGAQA',\n",
       " 'TPRKRAA',\n",
       " 'TQQAGP',\n",
       " 'APHSAKKKKNNTTHHPPP',\n",
       " 'PAKRAARR',\n",
       " 'TTGHGHTQTGD',\n",
       " 'RTARAHAAQG',\n",
       " 'GRRTER',\n",
       " 'ADAQQEHA',\n",
       " 'PTAAKRRRGK',\n",
       " 'TRRKKKKEKHRR',\n",
       " 'KRATEHG',\n",
       " 'AQSTARTNSR',\n",
       " 'KETEKR',\n",
       " 'TRKAEP',\n",
       " 'PAR',\n",
       " 'RKPASTRKRN',\n",
       " 'RKEQAP',\n",
       " 'QRRPAARGPPT',\n",
       " 'RRAAASRRQ',\n",
       " 'RQKGRDKGPPR',\n",
       " 'PGTKEQPTETG',\n",
       " 'KQTAPTAAQ',\n",
       " 'KTGTAT',\n",
       " 'NQQTA',\n",
       " 'QGER',\n",
       " 'EGEKAPAP',\n",
       " 'KAKNEAEGAR',\n",
       " 'QKPRAAGRRR',\n",
       " 'PPPPERHPEE',\n",
       " 'ATTPESANRAAEAST',\n",
       " 'HSDKPA',\n",
       " 'GADRD',\n",
       " 'GSDRSQ',\n",
       " 'PQRPPR',\n",
       " 'GQHPKT',\n",
       " 'GEETAPAQQ',\n",
       " 'SATRE',\n",
       " 'EG',\n",
       " 'QQQA',\n",
       " 'RTDQQGKR',\n",
       " 'KKETKPTTNE',\n",
       " 'PRAPTTE',\n",
       " 'ERPRNDT',\n",
       " 'RPR',\n",
       " 'GRGDAG',\n",
       " 'NSSRKTKE',\n",
       " 'PHRQA',\n",
       " 'AENEKPTNKE',\n",
       " 'RSGGRH',\n",
       " 'TATKKKTRD',\n",
       " 'KGARKRTN',\n",
       " 'PTESHHGA',\n",
       " 'GKPAEEG',\n",
       " 'RNGQKEEP',\n",
       " 'TAGTPKPRA',\n",
       " 'ADGAGR',\n",
       " 'ER',\n",
       " 'AKAQRG',\n",
       " 'TAPP',\n",
       " 'TRRPGERKA',\n",
       " 'RRARRPQRGTAAS',\n",
       " 'GQPGAGD',\n",
       " 'RPGEGHTAT',\n",
       " 'STPPK',\n",
       " 'PRADPRAQTT',\n",
       " 'PQRGSA',\n",
       " 'PTAPATS',\n",
       " 'TPTRKS',\n",
       " 'SSREE',\n",
       " 'QKGEE',\n",
       " 'GNRRPRRRPQR',\n",
       " 'HPASKKEHTT',\n",
       " 'APKAATRATR',\n",
       " 'KRRKKTNA',\n",
       " 'RRQKREKAKKQAK',\n",
       " 'RKTPGPKPA',\n",
       " 'GAAREQA',\n",
       " 'AEEAEAKG',\n",
       " 'AQKAGTR',\n",
       " 'PGQRQQRAPGGG',\n",
       " 'SRQR',\n",
       " 'TTEAPTAR',\n",
       " 'HSPQR',\n",
       " 'GAARGAT',\n",
       " 'QQPPGR',\n",
       " 'APAGR',\n",
       " 'GPEEPPNA',\n",
       " 'PRREERRKRT',\n",
       " 'RTKERREERR',\n",
       " 'RQKEE',\n",
       " 'ARAAPGR',\n",
       " 'RQQA',\n",
       " 'PGAANGKNR',\n",
       " 'HHARPASA',\n",
       " 'KHTTE',\n",
       " 'RHTGAEAKGT',\n",
       " 'QKDRQER',\n",
       " 'RPQRAR',\n",
       " 'TKQGGTHRR',\n",
       " 'PTS',\n",
       " 'RNHAPRQGPG',\n",
       " 'QKRGRGP',\n",
       " 'RRKRRPK',\n",
       " 'NQPANARPPGK',\n",
       " 'RQPRAP',\n",
       " 'SHRRPPAGER',\n",
       " 'HGQQKRPQ',\n",
       " 'HGAADSATAT',\n",
       " 'KAKRN',\n",
       " 'QNRPR',\n",
       " 'TKQRA',\n",
       " 'RDPQQPPTPA',\n",
       " 'QRREKARRKA',\n",
       " 'EGPGESGGK',\n",
       " 'GKAAGGR']"
      ]
     },
     "execution_count": 44,
     "metadata": {},
     "output_type": "execute_result"
    }
   ],
   "source": [
    "#Test your code here\n",
    "Readsetprot(Readset,stdcodeRNA)"
   ]
  },
  {
   "cell_type": "markdown",
   "metadata": {},
   "source": [
    "Great! Now on to our last section of the workshop!\n",
    "\n",
    "---"
   ]
  },
  {
   "cell_type": "markdown",
   "metadata": {},
   "source": [
    "## Exercise 4: Motifs \n",
    "\n",
    "Motifs are repeating patterns of bases in a seqeunce with a well-defined function. Such motifs include DNA seqeunces in enhancer regions, adapter seqeunces for gene sequencing and RNA seqeunces like splicing signals. In this exercise, we will have a look at first counting and locating known DNA motifs, and also modifying a sequence by trimming unwanted motifs.\n"
   ]
  },
  {
   "cell_type": "markdown",
   "metadata": {},
   "source": [
    "For our first exercise, create a function that takes two seq objects, the sequence and motif, and returns the count and a list of all locations by the index of the sequence in a tuple.\n",
    "\n",
    "Here is an example scaffold for your code:\n",
    "- Initialise a list of locations and variables for storing the current base, location and motif count\n",
    "- Initialise a `while` loop while the current base is _less than_ the length of the input sequence\n",
    "    - **Inside this while loop**:\n",
    "    - Use the `sequence.find()` method to look for motifs starting at the current base\n",
    "    - If the finder discovers a match for the motif, add 1 to the current base and count, and append the the locations list with the current base\n",
    "    - If no motifs are found, increase the current base by 1\n",
    "- Output a list of the count and the location list"
   ]
  },
  {
   "cell_type": "code",
   "execution_count": 8,
   "metadata": {},
   "outputs": [],
   "source": [
    "#Exercise 4.1\n",
    "def findmotifs(sequence, motif):\n",
    "    #Your code here\n",
    "    locations = []\n",
    "    base = 0\n",
    "    loc = 0\n",
    "    count = 0\n",
    "\n",
    "    while (base < len(sequence)):\n",
    "        loc = sequence.find(motif, start=base)\n",
    "        if (loc > 0):\n",
    "            base = loc + 1\n",
    "            locations.append(loc + 1)# adding 1 as result is 1-indexed\n",
    "            count += 1\n",
    "        else:\n",
    "            base += 1\n",
    "    \n",
    "    return [count,locations]\n"
   ]
  },
  {
   "cell_type": "code",
   "execution_count": 9,
   "metadata": {},
   "outputs": [
    {
     "data": {
      "text/plain": [
       "[3, [2, 4, 10]]"
      ]
     },
     "execution_count": 9,
     "metadata": {},
     "output_type": "execute_result"
    }
   ],
   "source": [
    "#Test your code here\n",
    "findmotifs(Seq('GATATATGCATATACTT'),Seq('ATAT')) #Should return [3, [2, 4, 10]]"
   ]
  },
  {
   "cell_type": "markdown",
   "metadata": {},
   "source": [
    "Great! Sometimes, we often do not know exactly what motif we are looking for. A real-world motif application is combing through a series of genomes to identify common regions between them. In the next exercise, we will consider a simple case where we look for the longest common shared motif in a given readset, as a longer motif generally indicates a greater shared function. The input of the function will be a list of sequences, and the output should return a single sequence.\n",
    "\n",
    "Here is an example scaffold for your code:\n",
    "- Sort the reads from shortest to longest using the `sorted` function, with the key being the lengths of the reads\n",
    "- Seperate the shortest sequence and the rest of the readset into two variables\n",
    "- Initialise a blank string to store the motif\n",
    "- Start a `for` loop (with index i) iterating over the bases in the shortest sequence\n",
    "    - **Inside this for loop**\n",
    "    - Initialise another for loop (with index j) iterating from the current base to the rest of the shortest sequence\n",
    "    - **Inside this for loop**:\n",
    "        - Set the stem (potential longest motif) as the ith base to the j+1th base in the shortest sequence\n",
    "        - Initialse a `found` boolean variable as `False`\n",
    "        - Initialise yet _another_ for loop iterating over the rest of the sequences\n",
    "            - **Inside this for loop**\n",
    "            - If the stem was in the sequence, set `found` as true\n",
    "            - If not, set `found` as false and break the loop\n",
    "        - If found is true and the length of the current stem is longer than the stored motif, replace teh current stored motif with the stem\n",
    "- Return the motif sequence\n"
   ]
  },
  {
   "cell_type": "code",
   "execution_count": 5,
   "metadata": {},
   "outputs": [],
   "source": [
    "#Exercise 4.2\n",
    "def commonmotif(readset):\n",
    "    #Your code here\n",
    "    srt_reads = sorted(readset, key=len)\n",
    "    shortest_seq = srt_reads[0]\n",
    "    seqs = srt_reads[1:]\n",
    "    motif = ''\n",
    "    \n",
    "    for i in range(len(shortest_seq)):\n",
    "        for j in range(i, len(shortest_seq)):\n",
    "            stem = shortest_seq[i:j+1]\n",
    "            found = False\n",
    "            for seq in seqs:\n",
    "                if stem in seq:\n",
    "                    found = True\n",
    "                else:\n",
    "                    found = False\n",
    "                    break\n",
    "            if found and len(stem) > len(motif):\n",
    "                motif = stem\n",
    "    \n",
    "    return Seq(motif)"
   ]
  },
  {
   "cell_type": "code",
   "execution_count": 7,
   "metadata": {},
   "outputs": [
    {
     "data": {
      "text/plain": [
       "Seq('TA')"
      ]
     },
     "execution_count": 7,
     "metadata": {},
     "output_type": "execute_result"
    }
   ],
   "source": [
    "#Test your code here\n",
    "commonmotif([Seq('GATTACA'), Seq('TAGACCA'), Seq('ATACA')]) #Should return TA"
   ]
  },
  {
   "cell_type": "markdown",
   "metadata": {},
   "source": [
    "Now, we can try actually modifying a seqeunce, this time by removing adapter seqeunces. Adapter sequences are known artifical DNA sequences that serve to weed out specific DNA sequences of interest furing illumina sequencing, and are generally removed as they are not part of the sequence of interest. In the last exercise of this workshop, we will create a function that will take a seqeunce and motif of interest, and remove that motif from the original sequence, returning the modified sequence.\n",
    "\n",
    "The function below takes four arguments: The readset, adapter sequence in question, the minimum match and the minimum length left over after removal. Output a list of sequences with the adapter sequence within them removed. If the sequence left over is lower than the minimum allowed length, remove the sequence from the readset."
   ]
  },
  {
   "cell_type": "code",
   "execution_count": 2,
   "metadata": {},
   "outputs": [],
   "source": [
    "#Exercise 4.3\n",
    "def adapter_trim(reads, adapter_seq, min_match, min_length):\n",
    "    #Your code here\n",
    "    ### Get possible matches for adapter sequence\n",
    "    possible_matches = []\n",
    "    for i in range(len(adapter_seq) - min_match + 1):\n",
    "        possible_matches.append(str(adapter_seq)[i:i + min_match])\n",
    "\n",
    "    ### Trim adapter sequences\n",
    "    trimmed_reads = []\n",
    "    for iRead in reads:\n",
    "        my_matches = [len(iRead)]\n",
    "        \n",
    "        # Check  all possible match indexes\n",
    "        # before trimming read\n",
    "        for iMatch in possible_matches:\n",
    "            if iMatch in iRead:\n",
    "                idx = str(iRead).find(str(iMatch))\n",
    "                my_matches.append(idx)\n",
    "\n",
    "        # Get the first match and trim\n",
    "        # If no match, will return full read\n",
    "        my_end = min(my_matches)\n",
    "        trimmed_reads.append(iRead[0:my_end])\n",
    "\n",
    "    ### Filter trimmed reads\n",
    "    filtered_reads = []\n",
    "    for iRead in trimmed_reads:\n",
    "        \n",
    "        # Remove any read that is min_length bases long or shorter\n",
    "        # It was a common error to do if len(iRead) >= min_length\n",
    "        if len(iRead) > min_length:\n",
    "            filtered_reads.append(iRead)\n",
    "\n",
    "    return filtered_reads"
   ]
  },
  {
   "cell_type": "code",
   "execution_count": 46,
   "metadata": {},
   "outputs": [
    {
     "name": "stdout",
     "output_type": "stream",
     "text": [
      "[Seq('ATGAAATGAATGTCTTGA')]\n"
     ]
    }
   ],
   "source": [
    "demo_reads = [Seq('GTTGGATTCATGAAAGA'), Seq('ATGAAATGAATGTCTTGA')]\n",
    "demo_adapter = Seq('GATGAAAG')\n",
    "print(adapter_trim(demo_reads, demo_adapter, 7, 15)) # should output a list with just one sequence: ATGAAATGAATGTCTTGA\n"
   ]
  },
  {
   "cell_type": "markdown",
   "metadata": {},
   "source": [
    "Excellent! This is the end of workshop 1 of Bioinformatics. Thanks for attending, and see you next time for workshop 2, where we will look at seqeunce alignment!"
   ]
  }
 ],
 "metadata": {
  "kernelspec": {
   "display_name": "Python 3",
   "language": "python",
   "name": "python3"
  },
  "language_info": {
   "codemirror_mode": {
    "name": "ipython",
    "version": 3
   },
   "file_extension": ".py",
   "mimetype": "text/x-python",
   "name": "python",
   "nbconvert_exporter": "python",
   "pygments_lexer": "ipython3",
   "version": "3.8.5"
  }
 },
 "nbformat": 4,
 "nbformat_minor": 4
}
